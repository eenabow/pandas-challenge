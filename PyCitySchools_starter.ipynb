{
 "cells": [
  {
   "cell_type": "markdown",
   "metadata": {},
   "source": [
    "### Note\n",
    "* Instructions have been included for each segment. You do not have to follow them exactly, but they are included to help you think through the steps."
   ]
  },
  {
   "cell_type": "code",
   "execution_count": 169,
   "metadata": {},
   "outputs": [
    {
     "output_type": "execute_result",
     "data": {
      "text/plain": [
       "       Student ID       student_name gender grade         school_name  \\\n",
       "0               0       Paul Bradley      M   9th   Huang High School   \n",
       "1               1       Victor Smith      M  12th   Huang High School   \n",
       "2               2    Kevin Rodriguez      M  12th   Huang High School   \n",
       "3               3  Dr. Richard Scott      M  12th   Huang High School   \n",
       "4               4         Bonnie Ray      F   9th   Huang High School   \n",
       "...           ...                ...    ...   ...                 ...   \n",
       "39165       39165       Donna Howard      F  12th  Thomas High School   \n",
       "39166       39166          Dawn Bell      F  10th  Thomas High School   \n",
       "39167       39167     Rebecca Tanner      F   9th  Thomas High School   \n",
       "39168       39168       Desiree Kidd      F  10th  Thomas High School   \n",
       "39169       39169    Carolyn Jackson      F  11th  Thomas High School   \n",
       "\n",
       "       reading_score  math_score  School ID      type  size   budget  \\\n",
       "0                 66          79          0  District  2917  1910635   \n",
       "1                 94          61          0  District  2917  1910635   \n",
       "2                 90          60          0  District  2917  1910635   \n",
       "3                 67          58          0  District  2917  1910635   \n",
       "4                 97          84          0  District  2917  1910635   \n",
       "...              ...         ...        ...       ...   ...      ...   \n",
       "39165             99          90         14   Charter  1635  1043130   \n",
       "39166             95          70         14   Charter  1635  1043130   \n",
       "39167             73          84         14   Charter  1635  1043130   \n",
       "39168             99          90         14   Charter  1635  1043130   \n",
       "39169             95          75         14   Charter  1635  1043130   \n",
       "\n",
       "       Passing Math  Passing Reading  Passing Overall  \n",
       "0                 1                0                0  \n",
       "1                 0                1                0  \n",
       "2                 0                1                0  \n",
       "3                 0                0                0  \n",
       "4                 1                1                1  \n",
       "...             ...              ...              ...  \n",
       "39165             1                1                1  \n",
       "39166             1                1                1  \n",
       "39167             1                1                1  \n",
       "39168             1                1                1  \n",
       "39169             1                1                1  \n",
       "\n",
       "[39170 rows x 14 columns]"
      ],
      "text/html": "<div>\n<style scoped>\n    .dataframe tbody tr th:only-of-type {\n        vertical-align: middle;\n    }\n\n    .dataframe tbody tr th {\n        vertical-align: top;\n    }\n\n    .dataframe thead th {\n        text-align: right;\n    }\n</style>\n<table border=\"1\" class=\"dataframe\">\n  <thead>\n    <tr style=\"text-align: right;\">\n      <th></th>\n      <th>Student ID</th>\n      <th>student_name</th>\n      <th>gender</th>\n      <th>grade</th>\n      <th>school_name</th>\n      <th>reading_score</th>\n      <th>math_score</th>\n      <th>School ID</th>\n      <th>type</th>\n      <th>size</th>\n      <th>budget</th>\n      <th>Passing Math</th>\n      <th>Passing Reading</th>\n      <th>Passing Overall</th>\n    </tr>\n  </thead>\n  <tbody>\n    <tr>\n      <th>0</th>\n      <td>0</td>\n      <td>Paul Bradley</td>\n      <td>M</td>\n      <td>9th</td>\n      <td>Huang High School</td>\n      <td>66</td>\n      <td>79</td>\n      <td>0</td>\n      <td>District</td>\n      <td>2917</td>\n      <td>1910635</td>\n      <td>1</td>\n      <td>0</td>\n      <td>0</td>\n    </tr>\n    <tr>\n      <th>1</th>\n      <td>1</td>\n      <td>Victor Smith</td>\n      <td>M</td>\n      <td>12th</td>\n      <td>Huang High School</td>\n      <td>94</td>\n      <td>61</td>\n      <td>0</td>\n      <td>District</td>\n      <td>2917</td>\n      <td>1910635</td>\n      <td>0</td>\n      <td>1</td>\n      <td>0</td>\n    </tr>\n    <tr>\n      <th>2</th>\n      <td>2</td>\n      <td>Kevin Rodriguez</td>\n      <td>M</td>\n      <td>12th</td>\n      <td>Huang High School</td>\n      <td>90</td>\n      <td>60</td>\n      <td>0</td>\n      <td>District</td>\n      <td>2917</td>\n      <td>1910635</td>\n      <td>0</td>\n      <td>1</td>\n      <td>0</td>\n    </tr>\n    <tr>\n      <th>3</th>\n      <td>3</td>\n      <td>Dr. Richard Scott</td>\n      <td>M</td>\n      <td>12th</td>\n      <td>Huang High School</td>\n      <td>67</td>\n      <td>58</td>\n      <td>0</td>\n      <td>District</td>\n      <td>2917</td>\n      <td>1910635</td>\n      <td>0</td>\n      <td>0</td>\n      <td>0</td>\n    </tr>\n    <tr>\n      <th>4</th>\n      <td>4</td>\n      <td>Bonnie Ray</td>\n      <td>F</td>\n      <td>9th</td>\n      <td>Huang High School</td>\n      <td>97</td>\n      <td>84</td>\n      <td>0</td>\n      <td>District</td>\n      <td>2917</td>\n      <td>1910635</td>\n      <td>1</td>\n      <td>1</td>\n      <td>1</td>\n    </tr>\n    <tr>\n      <th>...</th>\n      <td>...</td>\n      <td>...</td>\n      <td>...</td>\n      <td>...</td>\n      <td>...</td>\n      <td>...</td>\n      <td>...</td>\n      <td>...</td>\n      <td>...</td>\n      <td>...</td>\n      <td>...</td>\n      <td>...</td>\n      <td>...</td>\n      <td>...</td>\n    </tr>\n    <tr>\n      <th>39165</th>\n      <td>39165</td>\n      <td>Donna Howard</td>\n      <td>F</td>\n      <td>12th</td>\n      <td>Thomas High School</td>\n      <td>99</td>\n      <td>90</td>\n      <td>14</td>\n      <td>Charter</td>\n      <td>1635</td>\n      <td>1043130</td>\n      <td>1</td>\n      <td>1</td>\n      <td>1</td>\n    </tr>\n    <tr>\n      <th>39166</th>\n      <td>39166</td>\n      <td>Dawn Bell</td>\n      <td>F</td>\n      <td>10th</td>\n      <td>Thomas High School</td>\n      <td>95</td>\n      <td>70</td>\n      <td>14</td>\n      <td>Charter</td>\n      <td>1635</td>\n      <td>1043130</td>\n      <td>1</td>\n      <td>1</td>\n      <td>1</td>\n    </tr>\n    <tr>\n      <th>39167</th>\n      <td>39167</td>\n      <td>Rebecca Tanner</td>\n      <td>F</td>\n      <td>9th</td>\n      <td>Thomas High School</td>\n      <td>73</td>\n      <td>84</td>\n      <td>14</td>\n      <td>Charter</td>\n      <td>1635</td>\n      <td>1043130</td>\n      <td>1</td>\n      <td>1</td>\n      <td>1</td>\n    </tr>\n    <tr>\n      <th>39168</th>\n      <td>39168</td>\n      <td>Desiree Kidd</td>\n      <td>F</td>\n      <td>10th</td>\n      <td>Thomas High School</td>\n      <td>99</td>\n      <td>90</td>\n      <td>14</td>\n      <td>Charter</td>\n      <td>1635</td>\n      <td>1043130</td>\n      <td>1</td>\n      <td>1</td>\n      <td>1</td>\n    </tr>\n    <tr>\n      <th>39169</th>\n      <td>39169</td>\n      <td>Carolyn Jackson</td>\n      <td>F</td>\n      <td>11th</td>\n      <td>Thomas High School</td>\n      <td>95</td>\n      <td>75</td>\n      <td>14</td>\n      <td>Charter</td>\n      <td>1635</td>\n      <td>1043130</td>\n      <td>1</td>\n      <td>1</td>\n      <td>1</td>\n    </tr>\n  </tbody>\n</table>\n<p>39170 rows × 14 columns</p>\n</div>"
     },
     "metadata": {},
     "execution_count": 169
    }
   ],
   "source": [
    "# Dependencies and Setup\n",
    "import pandas as pd\n",
    "import numpy as np\n",
    "\n",
    "# File to Load (Remember to Change These)\n",
    "school_data_to_load = \"Resources/schools_complete.csv\"\n",
    "student_data_to_load = \"Resources/students_complete.csv\"\n",
    "\n",
    "# Read School and Student Data File and store into Pandas DataFrames\n",
    "school_data = pd.read_csv(school_data_to_load)\n",
    "student_data = pd.read_csv(student_data_to_load)\n",
    "\n",
    "# Combine the data into a single dataset.  \n",
    "school_data_complete= pd.merge(student_data, school_data, how=\"left\", on=[\"school_name\", \"school_name\"])\n",
    "\n",
    "#Create new column to state if a student passed math (1 = passed)\n",
    "Conditions=[\n",
    "\t\t(school_data_complete['math_score']>= 70),\n",
    "\t\t(school_data_complete['math_score'] <= 70)\n",
    "\t]\n",
    "\n",
    "Values=[1,0]\n",
    "\n",
    "\n",
    "school_data_complete[\"Passing Math\"]=np.select(Conditions,Values)\n",
    "\n",
    "#Create new column to state if a student passed reading (1 = passed)\n",
    "Conditions=[\n",
    "\t\t(school_data_complete['reading_score']>= 70),\n",
    "\t\t(school_data_complete['reading_score'] <= 70)\n",
    "\t]\n",
    "\n",
    "Values=[1,0]\n",
    "\n",
    "\n",
    "school_data_complete[\"Passing Reading\"]=np.select(Conditions,Values)\n",
    "\n",
    "#Create new column to state if a student passed both math and reading (1 = passed) \n",
    "\n",
    "Conditions=[\n",
    "\t\t(school_data_complete['Passing Math'] == 1) & \n",
    "\t\t(school_data_complete['Passing Reading'] == 1)\n",
    "\t]\n",
    "\n",
    "Values=[1]\n",
    "\n",
    "\n",
    "school_data_complete[\"Passing Overall\"]=np.select(Conditions,Values)\n",
    "\n",
    "\n",
    "\n",
    "school_data_complete\n",
    "\n"
   ]
  },
  {
   "cell_type": "markdown",
   "metadata": {},
   "source": [
    "## District Summary\n",
    "\n",
    "* Calculate the total number of schools\n",
    "\n",
    "* Calculate the total number of students\n",
    "\n",
    "* Calculate the total budget\n",
    "\n",
    "* Calculate the average math score \n",
    "\n",
    "* Calculate the average reading score\n",
    "\n",
    "* Calculate the percentage of students with a passing math score (70 or greater)\n",
    "\n",
    "* Calculate the percentage of students with a passing reading score (70 or greater)\n",
    "\n",
    "* Calculate the percentage of students who passed math **and** reading (% Overall Passing)\n",
    "\n",
    "* Create a dataframe to hold the above results\n",
    "\n",
    "* Optional: give the displayed data cleaner formatting"
   ]
  },
  {
   "cell_type": "code",
   "execution_count": 170,
   "metadata": {},
   "outputs": [
    {
     "output_type": "execute_result",
     "data": {
      "text/plain": [
       "   Total Schools  Total Students  Total Budget  Average Math Score  \\\n",
       "0             15           39170      24649428           78.985371   \n",
       "\n",
       "   Average Reading Score  % Passing Math  % Passing Reading  % Overall Passing  \n",
       "0               81.87784       74.980853          85.805463          65.172326  "
      ],
      "text/html": "<div>\n<style scoped>\n    .dataframe tbody tr th:only-of-type {\n        vertical-align: middle;\n    }\n\n    .dataframe tbody tr th {\n        vertical-align: top;\n    }\n\n    .dataframe thead th {\n        text-align: right;\n    }\n</style>\n<table border=\"1\" class=\"dataframe\">\n  <thead>\n    <tr style=\"text-align: right;\">\n      <th></th>\n      <th>Total Schools</th>\n      <th>Total Students</th>\n      <th>Total Budget</th>\n      <th>Average Math Score</th>\n      <th>Average Reading Score</th>\n      <th>% Passing Math</th>\n      <th>% Passing Reading</th>\n      <th>% Overall Passing</th>\n    </tr>\n  </thead>\n  <tbody>\n    <tr>\n      <th>0</th>\n      <td>15</td>\n      <td>39170</td>\n      <td>24649428</td>\n      <td>78.985371</td>\n      <td>81.87784</td>\n      <td>74.980853</td>\n      <td>85.805463</td>\n      <td>65.172326</td>\n    </tr>\n  </tbody>\n</table>\n</div>"
     },
     "metadata": {},
     "execution_count": 170
    }
   ],
   "source": [
    "#Find total schools by getting the unique value count \n",
    "Total_Schools = len(school_data_complete[\"school_name\"].unique())\n",
    "\n",
    "#Find total students by getting the count from student ID \n",
    "Total_Students= len(school_data_complete[\"Student ID\"].unique())\n",
    "\n",
    "#Find unique budgets per school \n",
    "unique_budget = school_data_complete[\"budget\"].unique()\n",
    "\n",
    "#Sum Total budget from unique budgets \n",
    "Total_Budget = unique_budget.sum()\n",
    "\n",
    "#Find Average Math Score \n",
    "Average_Math = school_data_complete[\"math_score\"].mean()\n",
    "\n",
    "# #Find Average Reading Score\n",
    "Average_Reading = school_data_complete[\"reading_score\"].mean()\n",
    "\n",
    "#Find % Passing Math by using a boolean mask and dividing by length of column\n",
    "percent_math = sum(((school_data_complete[\"math_score\"] >= 70) / len(school_data_complete[\"math_score\"])) * 100)\n",
    "\n",
    "#Find % Passing  by Reading using a boolean mask and dividing by length of column\n",
    "percent_reading = sum(((school_data_complete[\"reading_score\"] >= 70) / len(school_data_complete[\"reading_score\"])) * 100)\n",
    "\n",
    "# Find Overall passing % by adding reading and math and dividing by length\n",
    "overall_passing = sum((((school_data_complete[\"reading_score\"] >= 70) & (school_data_complete[\"math_score\"] >= 70)) / len(school_data_complete[\"reading_score\"])) * 100)\n",
    "\n",
    "# Format new df\n",
    "District_summary_df = pd.DataFrame({\"Total Schools\": [Total_Schools], \"Total Students\": [Total_Students], \"Total Budget\": [Total_Budget],\"Average Math Score\": [Average_Math], \"Average Reading Score\": [Average_Reading], \"% Passing Math\": [percent_math], \"% Passing Reading\": [percent_reading], \"% Overall Passing\": [overall_passing]})\n",
    "\n",
    "\n",
    "District_summary_df.head()"
   ]
  },
  {
   "cell_type": "markdown",
   "metadata": {},
   "source": [
    "## School Summary"
   ]
  },
  {
   "cell_type": "markdown",
   "metadata": {},
   "source": [
    "* Create an overview table that summarizes key metrics about each school, including:\n",
    "  * School Name\n",
    "  * School Type\n",
    "  * Total Students\n",
    "  * Total School Budget\n",
    "  * Per Student Budget\n",
    "  * Average Math Score\n",
    "  * Average Reading Score\n",
    "  * % Passing Math\n",
    "  * % Passing Reading\n",
    "  * % Overall Passing (The percentage of students that passed math **and** reading.)\n",
    "  \n",
    "* Create a dataframe to hold the above results"
   ]
  },
  {
   "cell_type": "code",
   "execution_count": 171,
   "metadata": {},
   "outputs": [
    {
     "output_type": "execute_result",
     "data": {
      "text/plain": [
       "            school_name School Type  Total Students  Total School Budget  \\\n",
       "0    Bailey High School    District            4976              3124928   \n",
       "1   Cabrera High School     Charter            1858              1081356   \n",
       "2  Figueroa High School    District            2949              1884411   \n",
       "3      Ford High School    District            2739              1763916   \n",
       "4   Griffin High School     Charter            1468               917500   \n",
       "\n",
       "   Per Student Budget  Average Math Score  Average Reading Score  \\\n",
       "0               628.0           77.048432              81.033963   \n",
       "1               582.0           83.061895              83.975780   \n",
       "2               639.0           76.711767              81.158020   \n",
       "3               644.0           77.102592              80.746258   \n",
       "4               625.0           83.351499              83.816757   \n",
       "\n",
       "   % Passing Math  % Passing Reading  % Passing Overall  \n",
       "0       66.680064          81.933280          54.642283  \n",
       "1       94.133477          97.039828          91.334769  \n",
       "2       65.988471          80.739234          53.204476  \n",
       "3       68.309602          79.299014          54.289887  \n",
       "4       93.392371          97.138965          90.599455  "
      ],
      "text/html": "<div>\n<style scoped>\n    .dataframe tbody tr th:only-of-type {\n        vertical-align: middle;\n    }\n\n    .dataframe tbody tr th {\n        vertical-align: top;\n    }\n\n    .dataframe thead th {\n        text-align: right;\n    }\n</style>\n<table border=\"1\" class=\"dataframe\">\n  <thead>\n    <tr style=\"text-align: right;\">\n      <th></th>\n      <th>school_name</th>\n      <th>School Type</th>\n      <th>Total Students</th>\n      <th>Total School Budget</th>\n      <th>Per Student Budget</th>\n      <th>Average Math Score</th>\n      <th>Average Reading Score</th>\n      <th>% Passing Math</th>\n      <th>% Passing Reading</th>\n      <th>% Passing Overall</th>\n    </tr>\n  </thead>\n  <tbody>\n    <tr>\n      <th>0</th>\n      <td>Bailey High School</td>\n      <td>District</td>\n      <td>4976</td>\n      <td>3124928</td>\n      <td>628.0</td>\n      <td>77.048432</td>\n      <td>81.033963</td>\n      <td>66.680064</td>\n      <td>81.933280</td>\n      <td>54.642283</td>\n    </tr>\n    <tr>\n      <th>1</th>\n      <td>Cabrera High School</td>\n      <td>Charter</td>\n      <td>1858</td>\n      <td>1081356</td>\n      <td>582.0</td>\n      <td>83.061895</td>\n      <td>83.975780</td>\n      <td>94.133477</td>\n      <td>97.039828</td>\n      <td>91.334769</td>\n    </tr>\n    <tr>\n      <th>2</th>\n      <td>Figueroa High School</td>\n      <td>District</td>\n      <td>2949</td>\n      <td>1884411</td>\n      <td>639.0</td>\n      <td>76.711767</td>\n      <td>81.158020</td>\n      <td>65.988471</td>\n      <td>80.739234</td>\n      <td>53.204476</td>\n    </tr>\n    <tr>\n      <th>3</th>\n      <td>Ford High School</td>\n      <td>District</td>\n      <td>2739</td>\n      <td>1763916</td>\n      <td>644.0</td>\n      <td>77.102592</td>\n      <td>80.746258</td>\n      <td>68.309602</td>\n      <td>79.299014</td>\n      <td>54.289887</td>\n    </tr>\n    <tr>\n      <th>4</th>\n      <td>Griffin High School</td>\n      <td>Charter</td>\n      <td>1468</td>\n      <td>917500</td>\n      <td>625.0</td>\n      <td>83.351499</td>\n      <td>83.816757</td>\n      <td>93.392371</td>\n      <td>97.138965</td>\n      <td>90.599455</td>\n    </tr>\n  </tbody>\n</table>\n</div>"
     },
     "metadata": {},
     "execution_count": 171
    }
   ],
   "source": [
    "# Group by school name \n",
    "grouped_school_summary_df = school_data_complete.groupby([\"school_name\"]).first()\n",
    "\n",
    "\n",
    "# Calculate total students by school using count on Student ID's\n",
    "grouped_school_summary_df [\"Total Students\"] = school_data_complete.groupby(\"school_name\")[\"Student ID\"].count()\n",
    "\n",
    "\n",
    "#Divide total school budget by total students to get Per student budget \n",
    "grouped_school_summary_df [\"Per Student Budget\"] = (grouped_school_summary_df [\"budget\"] / grouped_school_summary_df [\"Total Students\"])\n",
    "\n",
    "# Calculate average math score by group \n",
    "grouped_school_summary_df [\"Average Math Score\"] = school_data_complete.groupby(\"school_name\")[\"math_score\"].mean()\n",
    "\n",
    "# Calculate average reading score by group \n",
    "grouped_school_summary_df [\"Average Reading Score\"] = school_data_complete.groupby(\"school_name\")[\"reading_score\"].mean()\n",
    "\n",
    "\n",
    "#Find % Passing Math by finding the mean in the original dataframe (0 and 1 values)\n",
    "grouped_school_summary_df [\"% Passing Math\"] = (school_data_complete.groupby(\"school_name\")[\"Passing Math\"].mean() * 100)\n",
    "\n",
    "\n",
    "#Find % Passing Reading by finding the mean in the original dataframe (0 and 1 values)\n",
    "grouped_school_summary_df [\"% Passing Reading\"] = (school_data_complete.groupby(\"school_name\")[\"Passing Reading\"].mean() * 100)\n",
    "\n",
    "# Find Overall passing % by finding the mean in the original dataframe (0 and 1 values)\n",
    "grouped_school_summary_df [\"% Passing Overall\"] = (school_data_complete.groupby(\"school_name\")[\"Passing Overall\"].mean() * 100)\n",
    "\n",
    "#Setting relevant columns and setting it to a new and organized df \n",
    "columns_to_keep = [\"type\", \"Total Students\", \"budget\", \"Per Student Budget\", \"Average Math Score\", \"Average Reading Score\",\"% Passing Math\", \"% Passing Reading\", \"% Passing Overall\" ]\n",
    "\n",
    "Organized_school_summary_df = grouped_school_summary_df[columns_to_keep]\n",
    "\n",
    "#Renaming original column headers to meet output\n",
    "Renamed_School_Summary_df = Organized_school_summary_df.rename(columns={\"type\": \"School Type\", \"budget\": \"Total School Budget\", })\n",
    "\n",
    "\n",
    "#Setting the index as the grouped\n",
    "Final_school_summary_df = Renamed_School_Summary_df.reset_index()\n",
    "\n",
    "Final_school_summary_df.head()\n",
    "\n"
   ]
  },
  {
   "cell_type": "markdown",
   "metadata": {},
   "source": [
    "## Top Performing Schools (By % Overall Passing)"
   ]
  },
  {
   "cell_type": "markdown",
   "metadata": {},
   "source": [
    "* Sort and display the top five performing schools by % overall passing."
   ]
  },
  {
   "cell_type": "code",
   "execution_count": 172,
   "metadata": {
    "scrolled": true
   },
   "outputs": [
    {
     "output_type": "execute_result",
     "data": {
      "text/plain": [
       "           school_name School Type  Total Students  Total School Budget  \\\n",
       "0  Cabrera High School     Charter            1858              1081356   \n",
       "1   Thomas High School     Charter            1635              1043130   \n",
       "2  Griffin High School     Charter            1468               917500   \n",
       "3   Wilson High School     Charter            2283              1319574   \n",
       "4     Pena High School     Charter             962               585858   \n",
       "\n",
       "   Per Student Budget  Average Math Score  Average Reading Score  \\\n",
       "0               582.0           83.061895              83.975780   \n",
       "1               638.0           83.418349              83.848930   \n",
       "2               625.0           83.351499              83.816757   \n",
       "3               578.0           83.274201              83.989488   \n",
       "4               609.0           83.839917              84.044699   \n",
       "\n",
       "   % Passing Math  % Passing Reading  % Passing Overall  \n",
       "0       94.133477          97.039828          91.334769  \n",
       "1       93.272171          97.308869          90.948012  \n",
       "2       93.392371          97.138965          90.599455  \n",
       "3       93.867718          96.539641          90.582567  \n",
       "4       94.594595          95.945946          90.540541  "
      ],
      "text/html": "<div>\n<style scoped>\n    .dataframe tbody tr th:only-of-type {\n        vertical-align: middle;\n    }\n\n    .dataframe tbody tr th {\n        vertical-align: top;\n    }\n\n    .dataframe thead th {\n        text-align: right;\n    }\n</style>\n<table border=\"1\" class=\"dataframe\">\n  <thead>\n    <tr style=\"text-align: right;\">\n      <th></th>\n      <th>school_name</th>\n      <th>School Type</th>\n      <th>Total Students</th>\n      <th>Total School Budget</th>\n      <th>Per Student Budget</th>\n      <th>Average Math Score</th>\n      <th>Average Reading Score</th>\n      <th>% Passing Math</th>\n      <th>% Passing Reading</th>\n      <th>% Passing Overall</th>\n    </tr>\n  </thead>\n  <tbody>\n    <tr>\n      <th>0</th>\n      <td>Cabrera High School</td>\n      <td>Charter</td>\n      <td>1858</td>\n      <td>1081356</td>\n      <td>582.0</td>\n      <td>83.061895</td>\n      <td>83.975780</td>\n      <td>94.133477</td>\n      <td>97.039828</td>\n      <td>91.334769</td>\n    </tr>\n    <tr>\n      <th>1</th>\n      <td>Thomas High School</td>\n      <td>Charter</td>\n      <td>1635</td>\n      <td>1043130</td>\n      <td>638.0</td>\n      <td>83.418349</td>\n      <td>83.848930</td>\n      <td>93.272171</td>\n      <td>97.308869</td>\n      <td>90.948012</td>\n    </tr>\n    <tr>\n      <th>2</th>\n      <td>Griffin High School</td>\n      <td>Charter</td>\n      <td>1468</td>\n      <td>917500</td>\n      <td>625.0</td>\n      <td>83.351499</td>\n      <td>83.816757</td>\n      <td>93.392371</td>\n      <td>97.138965</td>\n      <td>90.599455</td>\n    </tr>\n    <tr>\n      <th>3</th>\n      <td>Wilson High School</td>\n      <td>Charter</td>\n      <td>2283</td>\n      <td>1319574</td>\n      <td>578.0</td>\n      <td>83.274201</td>\n      <td>83.989488</td>\n      <td>93.867718</td>\n      <td>96.539641</td>\n      <td>90.582567</td>\n    </tr>\n    <tr>\n      <th>4</th>\n      <td>Pena High School</td>\n      <td>Charter</td>\n      <td>962</td>\n      <td>585858</td>\n      <td>609.0</td>\n      <td>83.839917</td>\n      <td>84.044699</td>\n      <td>94.594595</td>\n      <td>95.945946</td>\n      <td>90.540541</td>\n    </tr>\n  </tbody>\n</table>\n</div>"
     },
     "metadata": {},
     "execution_count": 172
    }
   ],
   "source": [
    "#Find Top five schools according to overall passing %\n",
    "\n",
    "Ascending_schools = Final_school_summary_df.sort_values(\"% Passing Overall\", ascending=False)\n",
    "\n",
    "Top_five_schools = Ascending_schools.reset_index(drop=True)\n",
    "Top_five_schools.head(5)"
   ]
  },
  {
   "cell_type": "markdown",
   "metadata": {},
   "source": [
    "## Bottom Performing Schools (By % Overall Passing)"
   ]
  },
  {
   "cell_type": "markdown",
   "metadata": {},
   "source": [
    "* Sort and display the five worst-performing schools by % overall passing."
   ]
  },
  {
   "cell_type": "code",
   "execution_count": 173,
   "metadata": {},
   "outputs": [
    {
     "output_type": "execute_result",
     "data": {
      "text/plain": [
       "             school_name School Type  Total Students  Total School Budget  \\\n",
       "0  Rodriguez High School    District            3999              2547363   \n",
       "1   Figueroa High School    District            2949              1884411   \n",
       "2      Huang High School    District            2917              1910635   \n",
       "3  Hernandez High School    District            4635              3022020   \n",
       "4    Johnson High School    District            4761              3094650   \n",
       "\n",
       "   Per Student Budget  Average Math Score  Average Reading Score  \\\n",
       "0               637.0           76.842711              80.744686   \n",
       "1               639.0           76.711767              81.158020   \n",
       "2               655.0           76.629414              81.182722   \n",
       "3               652.0           77.289752              80.934412   \n",
       "4               650.0           77.072464              80.966394   \n",
       "\n",
       "   % Passing Math  % Passing Reading  % Passing Overall  \n",
       "0       66.366592          80.220055          52.988247  \n",
       "1       65.988471          80.739234          53.204476  \n",
       "2       65.683922          81.316421          53.513884  \n",
       "3       66.752967          80.862999          53.527508  \n",
       "4       66.057551          81.222432          53.539172  "
      ],
      "text/html": "<div>\n<style scoped>\n    .dataframe tbody tr th:only-of-type {\n        vertical-align: middle;\n    }\n\n    .dataframe tbody tr th {\n        vertical-align: top;\n    }\n\n    .dataframe thead th {\n        text-align: right;\n    }\n</style>\n<table border=\"1\" class=\"dataframe\">\n  <thead>\n    <tr style=\"text-align: right;\">\n      <th></th>\n      <th>school_name</th>\n      <th>School Type</th>\n      <th>Total Students</th>\n      <th>Total School Budget</th>\n      <th>Per Student Budget</th>\n      <th>Average Math Score</th>\n      <th>Average Reading Score</th>\n      <th>% Passing Math</th>\n      <th>% Passing Reading</th>\n      <th>% Passing Overall</th>\n    </tr>\n  </thead>\n  <tbody>\n    <tr>\n      <th>0</th>\n      <td>Rodriguez High School</td>\n      <td>District</td>\n      <td>3999</td>\n      <td>2547363</td>\n      <td>637.0</td>\n      <td>76.842711</td>\n      <td>80.744686</td>\n      <td>66.366592</td>\n      <td>80.220055</td>\n      <td>52.988247</td>\n    </tr>\n    <tr>\n      <th>1</th>\n      <td>Figueroa High School</td>\n      <td>District</td>\n      <td>2949</td>\n      <td>1884411</td>\n      <td>639.0</td>\n      <td>76.711767</td>\n      <td>81.158020</td>\n      <td>65.988471</td>\n      <td>80.739234</td>\n      <td>53.204476</td>\n    </tr>\n    <tr>\n      <th>2</th>\n      <td>Huang High School</td>\n      <td>District</td>\n      <td>2917</td>\n      <td>1910635</td>\n      <td>655.0</td>\n      <td>76.629414</td>\n      <td>81.182722</td>\n      <td>65.683922</td>\n      <td>81.316421</td>\n      <td>53.513884</td>\n    </tr>\n    <tr>\n      <th>3</th>\n      <td>Hernandez High School</td>\n      <td>District</td>\n      <td>4635</td>\n      <td>3022020</td>\n      <td>652.0</td>\n      <td>77.289752</td>\n      <td>80.934412</td>\n      <td>66.752967</td>\n      <td>80.862999</td>\n      <td>53.527508</td>\n    </tr>\n    <tr>\n      <th>4</th>\n      <td>Johnson High School</td>\n      <td>District</td>\n      <td>4761</td>\n      <td>3094650</td>\n      <td>650.0</td>\n      <td>77.072464</td>\n      <td>80.966394</td>\n      <td>66.057551</td>\n      <td>81.222432</td>\n      <td>53.539172</td>\n    </tr>\n  </tbody>\n</table>\n</div>"
     },
     "metadata": {},
     "execution_count": 173
    }
   ],
   "source": [
    "#Find Bottom five schools according to overall passing %\n",
    "Descending_schools = Final_school_summary_df.sort_values(\"% Passing Overall\", ascending=True)\n",
    "\n",
    "Bottom_five_schools = Descending_schools.reset_index(drop=True)\n",
    "Bottom_five_schools.head(5)"
   ]
  },
  {
   "cell_type": "markdown",
   "metadata": {
    "collapsed": true
   },
   "source": [
    "## Math Scores by Grade"
   ]
  },
  {
   "cell_type": "markdown",
   "metadata": {},
   "source": [
    "* Create a table that lists the average Reading Score for students of each grade level (9th, 10th, 11th, 12th) at each school.\n",
    "\n",
    "  * Create a pandas series for each grade. Hint: use a conditional statement.\n",
    "  \n",
    "  * Group each series by school\n",
    "  \n",
    "  * Combine the series into a dataframe\n",
    "  \n",
    "  * Optional: give the displayed data cleaner formatting"
   ]
  },
  {
   "cell_type": "code",
   "execution_count": 174,
   "metadata": {},
   "outputs": [
    {
     "output_type": "execute_result",
     "data": {
      "text/plain": [
       "                             9th       10th       11th       12th\n",
       "school_name                                                      \n",
       "Bailey High School     77.083676  76.996772  77.515588  76.492218\n",
       "Cabrera High School    83.094697  83.154506  82.765560  83.277487\n",
       "Figueroa High School   76.403037  76.539974  76.884344  77.151369\n",
       "Ford High School       77.361345  77.672316  76.918058  76.179963\n",
       "Griffin High School    82.044010  84.229064  83.842105  83.356164\n",
       "Hernandez High School  77.438495  77.337408  77.136029  77.186567\n",
       "Holden High School     83.787402  83.429825  85.000000  82.855422\n",
       "Huang High School      77.027251  75.908735  76.446602  77.225641\n",
       "Johnson High School    77.187857  76.691117  77.491653  76.863248\n",
       "Pena High School       83.625455  83.372000  84.328125  84.121547\n",
       "Rodriguez High School  76.859966  76.612500  76.395626  77.690748\n",
       "Shelton High School    83.420755  82.917411  83.383495  83.778976\n",
       "Thomas High School     83.590022  83.087886  83.498795  83.497041\n",
       "Wilson High School     83.085578  83.724422  83.195326  83.035794\n",
       "Wright High School     83.264706  84.010288  83.836782  83.644986"
      ],
      "text/html": "<div>\n<style scoped>\n    .dataframe tbody tr th:only-of-type {\n        vertical-align: middle;\n    }\n\n    .dataframe tbody tr th {\n        vertical-align: top;\n    }\n\n    .dataframe thead th {\n        text-align: right;\n    }\n</style>\n<table border=\"1\" class=\"dataframe\">\n  <thead>\n    <tr style=\"text-align: right;\">\n      <th></th>\n      <th>9th</th>\n      <th>10th</th>\n      <th>11th</th>\n      <th>12th</th>\n    </tr>\n    <tr>\n      <th>school_name</th>\n      <th></th>\n      <th></th>\n      <th></th>\n      <th></th>\n    </tr>\n  </thead>\n  <tbody>\n    <tr>\n      <th>Bailey High School</th>\n      <td>77.083676</td>\n      <td>76.996772</td>\n      <td>77.515588</td>\n      <td>76.492218</td>\n    </tr>\n    <tr>\n      <th>Cabrera High School</th>\n      <td>83.094697</td>\n      <td>83.154506</td>\n      <td>82.765560</td>\n      <td>83.277487</td>\n    </tr>\n    <tr>\n      <th>Figueroa High School</th>\n      <td>76.403037</td>\n      <td>76.539974</td>\n      <td>76.884344</td>\n      <td>77.151369</td>\n    </tr>\n    <tr>\n      <th>Ford High School</th>\n      <td>77.361345</td>\n      <td>77.672316</td>\n      <td>76.918058</td>\n      <td>76.179963</td>\n    </tr>\n    <tr>\n      <th>Griffin High School</th>\n      <td>82.044010</td>\n      <td>84.229064</td>\n      <td>83.842105</td>\n      <td>83.356164</td>\n    </tr>\n    <tr>\n      <th>Hernandez High School</th>\n      <td>77.438495</td>\n      <td>77.337408</td>\n      <td>77.136029</td>\n      <td>77.186567</td>\n    </tr>\n    <tr>\n      <th>Holden High School</th>\n      <td>83.787402</td>\n      <td>83.429825</td>\n      <td>85.000000</td>\n      <td>82.855422</td>\n    </tr>\n    <tr>\n      <th>Huang High School</th>\n      <td>77.027251</td>\n      <td>75.908735</td>\n      <td>76.446602</td>\n      <td>77.225641</td>\n    </tr>\n    <tr>\n      <th>Johnson High School</th>\n      <td>77.187857</td>\n      <td>76.691117</td>\n      <td>77.491653</td>\n      <td>76.863248</td>\n    </tr>\n    <tr>\n      <th>Pena High School</th>\n      <td>83.625455</td>\n      <td>83.372000</td>\n      <td>84.328125</td>\n      <td>84.121547</td>\n    </tr>\n    <tr>\n      <th>Rodriguez High School</th>\n      <td>76.859966</td>\n      <td>76.612500</td>\n      <td>76.395626</td>\n      <td>77.690748</td>\n    </tr>\n    <tr>\n      <th>Shelton High School</th>\n      <td>83.420755</td>\n      <td>82.917411</td>\n      <td>83.383495</td>\n      <td>83.778976</td>\n    </tr>\n    <tr>\n      <th>Thomas High School</th>\n      <td>83.590022</td>\n      <td>83.087886</td>\n      <td>83.498795</td>\n      <td>83.497041</td>\n    </tr>\n    <tr>\n      <th>Wilson High School</th>\n      <td>83.085578</td>\n      <td>83.724422</td>\n      <td>83.195326</td>\n      <td>83.035794</td>\n    </tr>\n    <tr>\n      <th>Wright High School</th>\n      <td>83.264706</td>\n      <td>84.010288</td>\n      <td>83.836782</td>\n      <td>83.644986</td>\n    </tr>\n  </tbody>\n</table>\n</div>"
     },
     "metadata": {},
     "execution_count": 174
    }
   ],
   "source": [
    "#Create new df with only relevant columns \n",
    "columns_to_keep2 = [\"school_name\",\"grade\", \"student_name\", \"size\", \"math_score\"]\n",
    "\n",
    "grade_math_df = school_data_complete[columns_to_keep2]\n",
    "\n",
    "\n",
    "################ 9th grade###################\n",
    "#Use conditional mask to find 9th graders\n",
    "ninth_grade_mask = grade_math_df.loc[grade_math_df[\"grade\"] == \"9th\"]\n",
    "\n",
    "#Group the 9th graders by school \n",
    "grouped_ninth_summary_df = ninth_grade_mask.groupby([\"school_name\"]).first()\n",
    "\n",
    "#Average the math score and set as new column in the grouped df\n",
    "grouped_school_summary_df [\"9th\"] = ninth_grade_mask.groupby(\"school_name\")[\"math_score\"].mean()\n",
    "\n",
    "################# 10th grade####################\n",
    "#Use conditional mask to find 10th graders\n",
    "tenth_grade_mask = grade_math_df.loc[grade_math_df[\"grade\"] == \"10th\"]\n",
    "\n",
    "#Group the 10th graders by school \n",
    "grouped_tenth_summary_df = tenth_grade_mask.groupby([\"school_name\"]).first()\n",
    "\n",
    "#Average the math score and set as new column in the grouped df\n",
    "grouped_school_summary_df [\"10th\"] = tenth_grade_mask.groupby(\"school_name\")[\"math_score\"].mean()\n",
    "\n",
    "################# 11th grade####################\n",
    "#Use conditional mask to find 11th graders\n",
    "eleventh_grade_mask = grade_math_df.loc[grade_math_df[\"grade\"] == \"11th\"]\n",
    "\n",
    "#Group the 11th graders by school \n",
    "grouped_eleventh_summary_df = eleventh_grade_mask.groupby([\"school_name\"]).first()\n",
    "\n",
    "#Average the math score and set as new column in the grouped df\n",
    "grouped_school_summary_df [\"11th\"] = eleventh_grade_mask.groupby(\"school_name\")[\"math_score\"].mean()\n",
    "\n",
    "################# 12th grade####################\n",
    "#Use conditional mask to find 12th graders\n",
    "twelth_grade_mask = grade_math_df.loc[grade_math_df[\"grade\"] == \"12th\"]\n",
    "\n",
    "#Group the 12th graders by school  \n",
    "grouped_twelth_summary_df = twelth_grade_mask.groupby([\"school_name\"]).first()\n",
    "\n",
    "#Average the math score and set as new column in the grouped df\n",
    "grouped_school_summary_df [\"12th\"] = twelth_grade_mask.groupby(\"school_name\")[\"math_score\"].mean()\n",
    "\n",
    "\n",
    "# Setting relevant columns and setting it to a new and organized df \n",
    "columns_to_keep3 = [\"9th\", \"10th\", \"11th\", \"12th\"]\n",
    "\n",
    "Final_MathbyGrade_df = grouped_school_summary_df[columns_to_keep3]\n",
    "\n",
    "#print\n",
    "Final_MathbyGrade_df\n"
   ]
  },
  {
   "cell_type": "markdown",
   "metadata": {},
   "source": [
    "## Reading Score by Grade "
   ]
  },
  {
   "cell_type": "markdown",
   "metadata": {},
   "source": [
    "* Perform the same operations as above for reading scores"
   ]
  },
  {
   "cell_type": "code",
   "execution_count": 175,
   "metadata": {},
   "outputs": [
    {
     "output_type": "execute_result",
     "data": {
      "text/plain": [
       "                             9th       10th       11th       12th\n",
       "school_name                                                      \n",
       "Bailey High School     81.303155  80.907183  80.945643  80.912451\n",
       "Cabrera High School    83.676136  84.253219  83.788382  84.287958\n",
       "Figueroa High School   81.198598  81.408912  80.640339  81.384863\n",
       "Ford High School       80.632653  81.262712  80.403642  80.662338\n",
       "Griffin High School    83.369193  83.706897  84.288089  84.013699\n",
       "Hernandez High School  80.866860  80.660147  81.396140  80.857143\n",
       "Holden High School     83.677165  83.324561  83.815534  84.698795\n",
       "Huang High School      81.290284  81.512386  81.417476  80.305983\n",
       "Johnson High School    81.260714  80.773431  80.616027  81.227564\n",
       "Pena High School       83.807273  83.612000  84.335938  84.591160\n",
       "Rodriguez High School  80.993127  80.629808  80.864811  80.376426\n",
       "Shelton High School    84.122642  83.441964  84.373786  82.781671\n",
       "Thomas High School     83.728850  84.254157  83.585542  83.831361\n",
       "Wilson High School     83.939778  84.021452  83.764608  84.317673\n",
       "Wright High School     83.833333  83.812757  84.156322  84.073171"
      ],
      "text/html": "<div>\n<style scoped>\n    .dataframe tbody tr th:only-of-type {\n        vertical-align: middle;\n    }\n\n    .dataframe tbody tr th {\n        vertical-align: top;\n    }\n\n    .dataframe thead th {\n        text-align: right;\n    }\n</style>\n<table border=\"1\" class=\"dataframe\">\n  <thead>\n    <tr style=\"text-align: right;\">\n      <th></th>\n      <th>9th</th>\n      <th>10th</th>\n      <th>11th</th>\n      <th>12th</th>\n    </tr>\n    <tr>\n      <th>school_name</th>\n      <th></th>\n      <th></th>\n      <th></th>\n      <th></th>\n    </tr>\n  </thead>\n  <tbody>\n    <tr>\n      <th>Bailey High School</th>\n      <td>81.303155</td>\n      <td>80.907183</td>\n      <td>80.945643</td>\n      <td>80.912451</td>\n    </tr>\n    <tr>\n      <th>Cabrera High School</th>\n      <td>83.676136</td>\n      <td>84.253219</td>\n      <td>83.788382</td>\n      <td>84.287958</td>\n    </tr>\n    <tr>\n      <th>Figueroa High School</th>\n      <td>81.198598</td>\n      <td>81.408912</td>\n      <td>80.640339</td>\n      <td>81.384863</td>\n    </tr>\n    <tr>\n      <th>Ford High School</th>\n      <td>80.632653</td>\n      <td>81.262712</td>\n      <td>80.403642</td>\n      <td>80.662338</td>\n    </tr>\n    <tr>\n      <th>Griffin High School</th>\n      <td>83.369193</td>\n      <td>83.706897</td>\n      <td>84.288089</td>\n      <td>84.013699</td>\n    </tr>\n    <tr>\n      <th>Hernandez High School</th>\n      <td>80.866860</td>\n      <td>80.660147</td>\n      <td>81.396140</td>\n      <td>80.857143</td>\n    </tr>\n    <tr>\n      <th>Holden High School</th>\n      <td>83.677165</td>\n      <td>83.324561</td>\n      <td>83.815534</td>\n      <td>84.698795</td>\n    </tr>\n    <tr>\n      <th>Huang High School</th>\n      <td>81.290284</td>\n      <td>81.512386</td>\n      <td>81.417476</td>\n      <td>80.305983</td>\n    </tr>\n    <tr>\n      <th>Johnson High School</th>\n      <td>81.260714</td>\n      <td>80.773431</td>\n      <td>80.616027</td>\n      <td>81.227564</td>\n    </tr>\n    <tr>\n      <th>Pena High School</th>\n      <td>83.807273</td>\n      <td>83.612000</td>\n      <td>84.335938</td>\n      <td>84.591160</td>\n    </tr>\n    <tr>\n      <th>Rodriguez High School</th>\n      <td>80.993127</td>\n      <td>80.629808</td>\n      <td>80.864811</td>\n      <td>80.376426</td>\n    </tr>\n    <tr>\n      <th>Shelton High School</th>\n      <td>84.122642</td>\n      <td>83.441964</td>\n      <td>84.373786</td>\n      <td>82.781671</td>\n    </tr>\n    <tr>\n      <th>Thomas High School</th>\n      <td>83.728850</td>\n      <td>84.254157</td>\n      <td>83.585542</td>\n      <td>83.831361</td>\n    </tr>\n    <tr>\n      <th>Wilson High School</th>\n      <td>83.939778</td>\n      <td>84.021452</td>\n      <td>83.764608</td>\n      <td>84.317673</td>\n    </tr>\n    <tr>\n      <th>Wright High School</th>\n      <td>83.833333</td>\n      <td>83.812757</td>\n      <td>84.156322</td>\n      <td>84.073171</td>\n    </tr>\n  </tbody>\n</table>\n</div>"
     },
     "metadata": {},
     "execution_count": 175
    }
   ],
   "source": [
    "#Create new df with only relevant columns \n",
    "columns_to_keep4 = [\"school_name\",\"grade\", \"student_name\", \"size\", \"reading_score\"]\n",
    "\n",
    "grade_reading_df = school_data_complete[columns_to_keep4]\n",
    "\n",
    "\n",
    "################ 9th grade###################\n",
    "#Use conditional mask to find 9th graders\n",
    "ninth_grade_mask = grade_reading_df.loc[grade_math_df[\"grade\"] == \"9th\"]\n",
    "\n",
    "#Group the 9th graders by school \n",
    "grouped_ninth_summary_df = ninth_grade_mask.groupby([\"school_name\"]).first()\n",
    "\n",
    "#Average the reading score and set as new column in the grouped df\n",
    "grouped_school_summary_df [\"9th\"] = ninth_grade_mask.groupby(\"school_name\")[\"reading_score\"].mean()\n",
    "\n",
    "################# 10th grade####################\n",
    "#Use conditional mask to find 10th graders\n",
    "tenth_grade_mask = grade_reading_df.loc[grade_math_df[\"grade\"] == \"10th\"]\n",
    "\n",
    "#Group the 10th graders by school \n",
    "grouped_tenth_summary_df = tenth_grade_mask.groupby([\"school_name\"]).first()\n",
    "\n",
    "#Average the reading score and set as new column in the grouped df\n",
    "grouped_school_summary_df [\"10th\"] = tenth_grade_mask.groupby(\"school_name\")[\"reading_score\"].mean()\n",
    "\n",
    "################# 11th grade####################\n",
    "#Use conditional mask to find 11th graders\n",
    "eleventh_grade_mask = grade_reading_df.loc[grade_math_df[\"grade\"] == \"11th\"]\n",
    "\n",
    "#Group the 11th graders by school \n",
    "grouped_eleventh_summary_df = eleventh_grade_mask.groupby([\"school_name\"]).first()\n",
    "\n",
    "#Average the reading score and set as new column in the grouped df\n",
    "grouped_school_summary_df [\"11th\"] = eleventh_grade_mask.groupby(\"school_name\")[\"reading_score\"].mean()\n",
    "\n",
    "################# 12th grade####################\n",
    "#Use conditional mask to find 12th graders\n",
    "twelth_grade_mask = grade_reading_df.loc[grade_math_df[\"grade\"] == \"12th\"]\n",
    "\n",
    "#Group the 12th graders by school  \n",
    "grouped_twelth_summary_df = twelth_grade_mask.groupby([\"school_name\"]).first()\n",
    "\n",
    "#Average the math score and set as new column in the grouped df\n",
    "grouped_school_summary_df [\"12th\"] = twelth_grade_mask.groupby(\"school_name\")[\"reading_score\"].mean()\n",
    "\n",
    "\n",
    "#Setting relevant columns and setting it to a new and organized df \n",
    "columns_to_keep3 = [\"9th\", \"10th\", \"11th\", \"12th\"]\n",
    "\n",
    "Final_ReadingbyGrade_df = grouped_school_summary_df[columns_to_keep3]\n",
    "\n",
    "#print\n",
    "Final_ReadingbyGrade_df\n"
   ]
  },
  {
   "cell_type": "markdown",
   "metadata": {},
   "source": [
    "## Scores by School Spending"
   ]
  },
  {
   "cell_type": "markdown",
   "metadata": {},
   "source": [
    "* Create a table that breaks down school performances based on average Spending Ranges (Per Student). Use 4 reasonable bins to group school spending. Include in the table each of the following:\n",
    "  * Average Math Score\n",
    "  * Average Reading Score\n",
    "  * % Passing Math\n",
    "  * % Passing Reading\n",
    "  * Overall Passing Rate (Average of the above two)"
   ]
  },
  {
   "cell_type": "code",
   "execution_count": 176,
   "metadata": {},
   "outputs": [
    {
     "output_type": "execute_result",
     "data": {
      "text/plain": [
       "                               Average Math Score  Average Reading Score  \\\n",
       "Spending Ranges (Per Student)                                              \n",
       "<$585                                   83.455399              83.933814   \n",
       "$585-630                                81.899826              83.155286   \n",
       "$630-645                                78.518855              81.624473   \n",
       "$645-680                                76.997210              81.027843   \n",
       "\n",
       "                               % Passing Math  % Passing Reading  \\\n",
       "Spending Ranges (Per Student)                                      \n",
       "<$585                               93.460096          96.610877   \n",
       "$585-630                            87.133538          92.718205   \n",
       "$630-645                            73.484209          84.391793   \n",
       "$645-680                            66.164813          81.133951   \n",
       "\n",
       "                               % Passing Overall  \n",
       "Spending Ranges (Per Student)                     \n",
       "<$585                                  90.369459  \n",
       "$585-630                               81.418596  \n",
       "$630-645                               62.857656  \n",
       "$645-680                               53.526855  "
      ],
      "text/html": "<div>\n<style scoped>\n    .dataframe tbody tr th:only-of-type {\n        vertical-align: middle;\n    }\n\n    .dataframe tbody tr th {\n        vertical-align: top;\n    }\n\n    .dataframe thead th {\n        text-align: right;\n    }\n</style>\n<table border=\"1\" class=\"dataframe\">\n  <thead>\n    <tr style=\"text-align: right;\">\n      <th></th>\n      <th>Average Math Score</th>\n      <th>Average Reading Score</th>\n      <th>% Passing Math</th>\n      <th>% Passing Reading</th>\n      <th>% Passing Overall</th>\n    </tr>\n    <tr>\n      <th>Spending Ranges (Per Student)</th>\n      <th></th>\n      <th></th>\n      <th></th>\n      <th></th>\n      <th></th>\n    </tr>\n  </thead>\n  <tbody>\n    <tr>\n      <th>&lt;$585</th>\n      <td>83.455399</td>\n      <td>83.933814</td>\n      <td>93.460096</td>\n      <td>96.610877</td>\n      <td>90.369459</td>\n    </tr>\n    <tr>\n      <th>$585-630</th>\n      <td>81.899826</td>\n      <td>83.155286</td>\n      <td>87.133538</td>\n      <td>92.718205</td>\n      <td>81.418596</td>\n    </tr>\n    <tr>\n      <th>$630-645</th>\n      <td>78.518855</td>\n      <td>81.624473</td>\n      <td>73.484209</td>\n      <td>84.391793</td>\n      <td>62.857656</td>\n    </tr>\n    <tr>\n      <th>$645-680</th>\n      <td>76.997210</td>\n      <td>81.027843</td>\n      <td>66.164813</td>\n      <td>81.133951</td>\n      <td>53.526855</td>\n    </tr>\n  </tbody>\n</table>\n</div>"
     },
     "metadata": {},
     "execution_count": 176
    }
   ],
   "source": [
    "# Create bins for School Spending \n",
    "bin_cutoffs = [0, 584.9, 629.9, 644.9, 680]\n",
    "\n",
    "#Create labels for bins\n",
    "Perstudent_labels = [\"<$585\", \"$585-630\", \"$630-645\", \"$645-680\"]\n",
    "\n",
    "#Assign bins and labels to Per Student Budget column\n",
    "bins = pd.cut(Renamed_School_Summary_df[\"Per Student Budget\"], bins=bin_cutoffs, labels=Perstudent_labels)\n",
    "\n",
    "#Print label names for bins\n",
    "Renamed_School_Summary_df[\"Spending Ranges (Per Student)\"] = bins\n",
    "\n",
    "\n",
    "#Setting relevant columns and setting it to a new and organized df \n",
    "columns_to_keep5 = [\"Spending Ranges (Per Student)\",\"Average Math Score\", \"Average Reading Score\", \"% Passing Math\", \"% Passing Reading\", \"% Passing Overall\"]\n",
    "\n",
    "Organized_PerStudent_df = Renamed_School_Summary_df[columns_to_keep5]\n",
    "\n",
    "#Set new groupby index to Spending Ranges per student\n",
    "Final_scores_by_spending_df = Organized_PerStudent_df.groupby(\"Spending Ranges (Per Student)\")\n",
    "\n",
    "Final_scores_by_spending_df= Final_scores_by_spending_df.mean()\n",
    "\n",
    "Final_scores_by_spending_df\n"
   ]
  },
  {
   "cell_type": "markdown",
   "metadata": {},
   "source": [
    "## Scores by School Size"
   ]
  },
  {
   "cell_type": "markdown",
   "metadata": {},
   "source": [
    "* Perform the same operations as above, based on school size."
   ]
  },
  {
   "cell_type": "code",
   "execution_count": null,
   "metadata": {
    "scrolled": true
   },
   "outputs": [],
   "source": [
    "#Create bins for school size \n",
    "\n",
    "#Group by bins \n"
   ]
  },
  {
   "cell_type": "markdown",
   "metadata": {},
   "source": [
    "## Scores by School Type"
   ]
  },
  {
   "cell_type": "markdown",
   "metadata": {},
   "source": [
    "* Perform the same operations as above, based on school type"
   ]
  },
  {
   "cell_type": "code",
   "execution_count": null,
   "metadata": {},
   "outputs": [],
   "source": [
    "# Group by school name \n",
    "grouped_school_type_df = school_data_complete.groupby([\"type\"]).first()"
   ]
  },
  {
   "cell_type": "code",
   "execution_count": null,
   "metadata": {},
   "outputs": [],
   "source": []
  }
 ],
 "metadata": {
  "anaconda-cloud": {},
  "kernel_info": {
   "name": "python3"
  },
  "kernelspec": {
   "display_name": "Python 3",
   "language": "python",
   "name": "python3"
  },
  "language_info": {
   "codemirror_mode": {
    "name": "ipython",
    "version": 3
   },
   "file_extension": ".py",
   "mimetype": "text/x-python",
   "name": "python",
   "nbconvert_exporter": "python",
   "pygments_lexer": "ipython3",
   "version": "3.8.3-final"
  },
  "latex_envs": {
   "LaTeX_envs_menu_present": true,
   "autoclose": false,
   "autocomplete": true,
   "bibliofile": "biblio.bib",
   "cite_by": "apalike",
   "current_citInitial": 1,
   "eqLabelWithNumbers": true,
   "eqNumInitial": 1,
   "hotkeys": {
    "equation": "Ctrl-E",
    "itemize": "Ctrl-I"
   },
   "labels_anchors": false,
   "latex_user_defs": false,
   "report_style_numbering": false,
   "user_envs_cfg": false
  },
  "nteract": {
   "version": "0.8.4"
  }
 },
 "nbformat": 4,
 "nbformat_minor": 1
}